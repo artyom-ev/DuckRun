{
 "cells": [
  {
   "cell_type": "markdown",
   "metadata": {},
   "source": [
    "#### Отчиистка таблицы и обновление счётчика "
   ]
  },
  {
   "cell_type": "code",
   "execution_count": null,
   "metadata": {
    "vscode": {
     "languageId": "sql"
    }
   },
   "outputs": [],
   "source": [
    "TRUNCATE TABLE table_name"
   ]
  },
  {
   "cell_type": "code",
   "execution_count": null,
   "metadata": {
    "vscode": {
     "languageId": "sql"
    }
   },
   "outputs": [],
   "source": [
    "-- Если таблица создаётся с полем id SERIAL PRIMARY KEY, то этой командой можно обновить её счётчик\n",
    "TRUNCATE TABLE table_name RESTART IDENTITY;"
   ]
  },
  {
   "cell_type": "markdown",
   "metadata": {},
   "source": [
    "#### Настройка ролей в базе данных"
   ]
  },
  {
   "cell_type": "code",
   "execution_count": null,
   "metadata": {
    "vscode": {
     "languageId": "sql"
    }
   },
   "outputs": [],
   "source": [
    "select\n",
    "    rolname,\n",
    "    rolconfig\n",
    "from pg_roles\n",
    "where\n",
    "    rolname in (\n",
    "    'anon',\n",
    "    'authenticated',\n",
    "    'postgres',\n",
    "    'service_role'\n",
    "    -- ,<ANY CUSTOM ROLES>\n",
    "    );\n",
    "\n",
    "alter role postgres set statement_timeout = '10min'\n",
    "\n",
    "NOTIFY pgrst, 'reload config';"
   ]
  },
  {
   "cell_type": "markdown",
   "metadata": {},
   "source": [
    "#### Получить списком колонки таблицы"
   ]
  },
  {
   "cell_type": "code",
   "execution_count": null,
   "metadata": {
    "vscode": {
     "languageId": "sql"
    }
   },
   "outputs": [],
   "source": [
    "SELECT string_agg(column_name, ', ') AS columns_list\n",
    "FROM information_schema.columns\n",
    "WHERE table_name = 'participants';"
   ]
  },
  {
   "cell_type": "markdown",
   "metadata": {},
   "source": [
    "#### Создание представления по домашним результатам"
   ]
  },
  {
   "cell_type": "code",
   "execution_count": null,
   "metadata": {
    "vscode": {
     "languageId": "sql"
    }
   },
   "outputs": [],
   "source": [
    "create view home_events as\n",
    "    SELECT run, date, link, finishers, volunteers, avg_time, best_female_time, best_male_time\n",
    "    FROM events\n",
    "    WHERE run LIKE 'Петергоф Александрийский%'"
   ]
  },
  {
   "cell_type": "code",
   "execution_count": null,
   "metadata": {
    "vscode": {
     "languageId": "sql"
    }
   },
   "outputs": [],
   "source": [
    "create view home_participants as\n",
    "\tSELECT run, date, link, finishers, volunteers, avg_time, best_female_time, best_male_time, position, name, profile_link, participant_id, finishes, clubs, age_group, age_grade, time, achievements\n",
    "\tFROM participants\n",
    "\tWHERE run LIKE 'Петергоф Александрийский%'"
   ]
  },
  {
   "cell_type": "code",
   "execution_count": null,
   "metadata": {
    "vscode": {
     "languageId": "sql"
    }
   },
   "outputs": [],
   "source": [
    "create view home_volunteers as\n",
    "    SELECT run, date, link, finishers, volunteers, avg_time, best_female_time, best_male_time, name, profile_link, participant_id, finishes, clubs, first_volunteer_info, volunteer_role\n",
    "    FROM volunteers\n",
    "    WHERE run LIKE 'Петергоф Александрийский%'"
   ]
  },
  {
   "cell_type": "code",
   "execution_count": null,
   "metadata": {
    "vscode": {
     "languageId": "sql"
    }
   },
   "outputs": [],
   "source": [
    "DROP VIEW IF EXISTS view_name;\n",
    "DROP VIEW view_name CASCADE;"
   ]
  },
  {
   "cell_type": "markdown",
   "metadata": {},
   "source": [
    "#### Расчёт петергофских участников"
   ]
  },
  {
   "cell_type": "code",
   "execution_count": null,
   "metadata": {
    "vscode": {
     "languageId": "sql"
    }
   },
   "outputs": [],
   "source": [
    "SELECT \n",
    "    p.name,\n",
    "    MAX(LEFT(p.age_group, 1)) AS sex,\n",
    "    p.profile_link,\n",
    "    p.participant_id,\n",
    "    MIN(TO_TIMESTAMP(p.time, 'HH24:MI:SS')::TIME) AS best_time,\n",
    "    COUNT(*) AS n_finishes,\n",
    "    SUM(CASE WHEN p.run LIKE 'Петергоф Александрийский%' THEN 1 ELSE 0 END) AS n_finishes_home,\n",
    "    latest.max_date AS r_latest_date,\n",
    "    latest.r_clubs\n",
    "FROM \n",
    "    participants p\n",
    "LEFT JOIN (\n",
    "    SELECT \n",
    "        participant_id, \n",
    "        MAX(TO_DATE(date, 'DD.MM.YYYY')) AS max_date,  \n",
    "        clubs as r_clubs\n",
    "    FROM participants\n",
    "    GROUP BY participant_id, r_clubs  \n",
    ") latest ON p.participant_id = latest.participant_id\n",
    "GROUP BY \n",
    "    p.name, p.profile_link, p.participant_id, latest.max_date, latest.r_clubs\n",
    "HAVING\n",
    "    SUM(CASE WHEN p.run LIKE 'Петергоф Александрийский%' THEN 1 ELSE 0 END) > 0\n",
    "    AND p.profile_link != '';"
   ]
  },
  {
   "cell_type": "markdown",
   "metadata": {},
   "source": [
    "#### Расчёт петергофских волонтёров"
   ]
  },
  {
   "cell_type": "code",
   "execution_count": null,
   "metadata": {
    "vscode": {
     "languageId": "sql"
    }
   },
   "outputs": [],
   "source": [
    "SELECT \n",
    "    v.name,\n",
    "    v.profile_link,\n",
    "    v.participant_id,\n",
    "    COUNT(DISTINCT v.date) AS n_volunteers,\n",
    "    COUNT(DISTINCT CASE \n",
    "        WHEN v.run LIKE 'Петергоф Александрийский%' THEN v.date \n",
    "        ELSE NULL \n",
    "    END) AS n_volunteers_home,\n",
    "    latest.max_date AS v_latest_date,\n",
    "    latest.v_clubs\n",
    "FROM \n",
    "    volunteers v\n",
    "LEFT JOIN (\n",
    "    SELECT \n",
    "        participant_id, \n",
    "        MAX(TO_DATE(date, 'DD.MM.YYYY')) AS max_date,  \n",
    "        clubs AS v_clubs \n",
    "    FROM volunteers\n",
    "    GROUP BY participant_id, clubs  \n",
    ") latest ON v.participant_id = latest.participant_id\n",
    "GROUP BY \n",
    "    v.name, v.profile_link, v.participant_id, latest.max_date, latest.v_clubs\n",
    "HAVING\n",
    "    SUM(CASE WHEN v.run LIKE 'Петергоф Александрийский%' THEN 1 ELSE 0 END) > 0\n",
    "    AND v.profile_link != '';"
   ]
  },
  {
   "cell_type": "markdown",
   "metadata": {},
   "source": [
    "#### Общая таблица по Петергофу"
   ]
  },
  {
   "cell_type": "code",
   "execution_count": null,
   "metadata": {
    "vscode": {
     "languageId": "sql"
    }
   },
   "outputs": [],
   "source": [
    "create view petergof_summary as\n",
    "SELECT \n",
    "    COALESCE(p.participant_id, v.participant_id) AS participant_id,\n",
    "    COALESCE(p.name, v.name) AS name,\n",
    "    p.sex,\n",
    "    p.best_time,\n",
    "    p.n_finishes,\n",
    "    p.n_finishes_home,\n",
    "    p.r_latest_date,\n",
    "    v.n_volunteers,\n",
    "    v.n_volunteers_home,\n",
    "    v.v_latest_date,\n",
    "    COALESCE(p.r_clubs, v.v_clubs) AS clubs,\n",
    "    COALESCE(p.profile_link, v.profile_link) AS profile_link\n",
    "FROM \n",
    "    home_participants p\n",
    "FULL OUTER JOIN \n",
    "    home_volunteers v \n",
    "ON \n",
    "    p.participant_id = v.participant_id;"
   ]
  },
  {
   "cell_type": "markdown",
   "metadata": {},
   "source": [
    "## Таблицы по рекордсменам, новичкам и вступившим в клубы 10/25/50/100"
   ]
  },
  {
   "cell_type": "markdown",
   "metadata": {},
   "source": [
    "#### Рекорды"
   ]
  },
  {
   "cell_type": "code",
   "execution_count": null,
   "metadata": {
    "vscode": {
     "languageId": "sql"
    }
   },
   "outputs": [],
   "source": [
    "create view view_records as\n",
    "SELECT \n",
    "    profile_link,\n",
    "    participant_id,\n",
    "    name,\n",
    "    time,\n",
    "    position\n",
    "FROM participants\n",
    "WHERE \n",
    "achievements LIKE '%Личный рекорд!%' \n",
    "AND run LIKE 'Петергоф Александрийский%'\n",
    "AND TO_DATE(date, 'DD.MM.YYYY') = (\n",
    "    SELECT MAX(TO_DATE(date, 'DD.MM.YYYY')) AS date\n",
    "    FROM participants\n",
    "    )"
   ]
  },
  {
   "cell_type": "markdown",
   "metadata": {},
   "source": [
    "#### Первый финиш на 5 верст"
   ]
  },
  {
   "cell_type": "code",
   "execution_count": null,
   "metadata": {
    "vscode": {
     "languageId": "sql"
    }
   },
   "outputs": [],
   "source": [
    "create view view_first_finish as\n",
    "SELECT \n",
    "    profile_link,\n",
    "    participant_id,\n",
    "    name,\n",
    "    time,\n",
    "    position\n",
    "FROM participants\n",
    "WHERE \n",
    "achievements LIKE '%Первый финиш на 5 вёрст%'\n",
    "AND run LIKE 'Петергоф Александрийский%'\n",
    "AND TO_DATE(date, 'DD.MM.YYYY') = (\n",
    "    SELECT MAX(TO_DATE(date, 'DD.MM.YYYY')) AS date\n",
    "    FROM participants\n",
    "    )"
   ]
  },
  {
   "cell_type": "markdown",
   "metadata": {},
   "source": [
    "#### Первый финиш в Петергофе"
   ]
  },
  {
   "cell_type": "code",
   "execution_count": null,
   "metadata": {
    "vscode": {
     "languageId": "sql"
    }
   },
   "outputs": [],
   "source": [
    "create view view_first_finish_petergof as\n",
    "SELECT \n",
    "    profile_link,\n",
    "    participant_id,\n",
    "    name,\n",
    "    time, \n",
    "    position,\n",
    "    n_finishes\n",
    "FROM participants\n",
    "WHERE \n",
    "achievements LIKE '%Первый финиш на Петергоф Александрийский%'\n",
    "AND run LIKE 'Петергоф Александрийский%'\n",
    "AND TO_DATE(date, 'DD.MM.YYYY') = (\n",
    "    SELECT MAX(TO_DATE(date, 'DD.MM.YYYY')) AS date\n",
    "    FROM participants\n",
    "    )"
   ]
  },
  {
   "cell_type": "markdown",
   "metadata": {},
   "source": [
    "#### Первое волонтерство на 5 верст"
   ]
  },
  {
   "cell_type": "code",
   "execution_count": null,
   "metadata": {
    "vscode": {
     "languageId": "sql"
    }
   },
   "outputs": [],
   "source": [
    "create view view_first_volunteer as\n",
    "SELECT \n",
    "profile_link,\n",
    "participant_id,\n",
    "name\n",
    "FROM volunteers\n",
    "WHERE first_volunteer like '%Первое волонтёрство на 5 вёрст%'\n",
    "AND run LIKE 'Петергоф Александрийский%'\n",
    "AND TO_DATE(date, 'DD.MM.YYYY') = (\n",
    "    SELECT MAX(TO_DATE(date, 'DD.MM.YYYY')) AS date\n",
    "    FROM volunteers\n",
    "    )"
   ]
  },
  {
   "cell_type": "markdown",
   "metadata": {},
   "source": [
    "#### Первое волонтерство в Петергофе"
   ]
  },
  {
   "cell_type": "code",
   "execution_count": null,
   "metadata": {
    "vscode": {
     "languageId": "sql"
    }
   },
   "outputs": [],
   "source": [
    "create view view_first_volunteer_petergof as\n",
    "SELECT \n",
    "profile_link,\n",
    "participant_id,\n",
    "name\n",
    "FROM volunteers\n",
    "WHERE\n",
    "n_volunteers = '1'\n",
    "AND first_volunteer LIKE '%Первое волонтёрство на 5 вёрст%'\n",
    "AND run LIKE 'Петергоф Александрийский%'\n",
    "AND TO_DATE(date, 'DD.MM.YYYY') = (\n",
    "    SELECT MAX(TO_DATE(date, 'DD.MM.YYYY')) AS date\n",
    "    FROM volunteers\n",
    "    )"
   ]
  },
  {
   "cell_type": "markdown",
   "metadata": {},
   "source": [
    "#### Вступившие в клубы пробегов"
   ]
  },
  {
   "cell_type": "code",
   "execution_count": null,
   "metadata": {
    "vscode": {
     "languageId": "sql"
    }
   },
   "outputs": [],
   "source": [
    "create view view_run_clubs as\n",
    "WITH ranked_data AS (\n",
    "    SELECT\n",
    "        profile_link,\n",
    "        name,\n",
    "        date,\n",
    "        run,  \n",
    "        n_finishes,\n",
    "        ROW_NUMBER() OVER (PARTITION BY profile_link ORDER BY TO_DATE(date, 'DD.MM.YYYY') DESC) AS rank\n",
    "    FROM\n",
    "        participants\n",
    "),\n",
    "last_and_prev_data AS (\n",
    "    SELECT\n",
    "        profile_link,\n",
    "        name,\n",
    "        MAX(CASE WHEN rank = 1 THEN TO_DATE(date, 'DD.MM.YYYY') END) AS last_date,\n",
    "        MAX(CASE WHEN rank = 1 THEN n_finishes END) AS last_n_finishes,\n",
    "        MAX(CASE WHEN rank = 1 THEN run END) AS last_run,\n",
    "        MAX(CASE WHEN rank = 2 THEN TO_DATE(date, 'DD.MM.YYYY') END) AS prev_date,\n",
    "        MAX(CASE WHEN rank = 2 THEN n_finishes END) AS prev_n_finishes,\n",
    "        MAX(CASE WHEN rank = 2 THEN run END) AS prev_run\n",
    "    FROM\n",
    "        ranked_data\n",
    "    WHERE\n",
    "        rank <= 2\n",
    "    GROUP BY\n",
    "        profile_link, name\n",
    ")\n",
    "SELECT\n",
    "    profile_link,\n",
    "    name,\n",
    "    last_date,\n",
    "    last_n_finishes,\n",
    "    last_run,\n",
    "    prev_date,\n",
    "    prev_n_finishes,\n",
    "    prev_run\n",
    "FROM\n",
    "    last_and_prev_data\n",
    "where last_run like 'Петергоф Александрийский%'\n",
    "and last_n_finishes in ('10', '25', '50', '100', '150')\n",
    "and last_date = (select max(TO_DATE(date, 'DD.MM.YYYY')) as ld\n",
    "from participants\n",
    "where run like 'Петергоф Александрийский%')"
   ]
  },
  {
   "cell_type": "markdown",
   "metadata": {},
   "source": [
    "#### Вступившие в клубы волонтёрств"
   ]
  },
  {
   "cell_type": "code",
   "execution_count": null,
   "metadata": {
    "vscode": {
     "languageId": "sql"
    }
   },
   "outputs": [],
   "source": [
    "create view view_help_clubs as\n",
    "WITH ranked_data AS (\n",
    "    SELECT\n",
    "        profile_link,\n",
    "        name,\n",
    "        date,\n",
    "        run,  \n",
    "        n_volunteers,\n",
    "        ROW_NUMBER() OVER (PARTITION BY profile_link ORDER BY TO_DATE(date, 'DD.MM.YYYY') DESC) AS rank\n",
    "    FROM\n",
    "        volunteers\n",
    "),\n",
    "last_and_prev_data AS (\n",
    "    SELECT\n",
    "        profile_link,\n",
    "        name,\n",
    "        MAX(CASE WHEN rank = 1 THEN TO_DATE(date, 'DD.MM.YYYY') END) AS last_date,\n",
    "        MAX(CASE WHEN rank = 1 THEN n_volunteers END) AS last_n_volunteers,\n",
    "        MAX(CASE WHEN rank = 1 THEN run END) AS last_run,\n",
    "        MAX(CASE WHEN rank = 2 THEN TO_DATE(date, 'DD.MM.YYYY') END) AS prev_date,\n",
    "        MAX(CASE WHEN rank = 2 THEN n_volunteers END) AS prev_n_volunteers,\n",
    "        MAX(CASE WHEN rank = 2 THEN run END) AS prev_run\n",
    "    FROM\n",
    "        ranked_data\n",
    "    WHERE\n",
    "        rank <= 2\n",
    "    GROUP BY\n",
    "        profile_link, name\n",
    ")\n",
    "SELECT\n",
    "    profile_link,\n",
    "    name,\n",
    "    last_date,\n",
    "    last_n_volunteers,\n",
    "    last_run,\n",
    "    prev_date,\n",
    "    prev_n_volunteers,\n",
    "    prev_run\n",
    "FROM\n",
    "    last_and_prev_data\n",
    "where last_run like 'Петергоф Александрийский%'\n",
    "and last_n_volunteers in ('10', '25', '50', '100', '150')\n",
    "and last_date = (select max(TO_DATE(date, 'DD.MM.YYYY')) as ld\n",
    "from participants\n",
    "where run like 'Петергоф Александрийский%')"
   ]
  },
  {
   "cell_type": "markdown",
   "metadata": {},
   "source": [
    "#### Вторая суббота в Петергофе"
   ]
  },
  {
   "cell_type": "code",
   "execution_count": null,
   "metadata": {
    "vscode": {
     "languageId": "sql"
    }
   },
   "outputs": [],
   "source": [
    "create view view_second_run as"
   ]
  }
 ],
 "metadata": {
  "language_info": {
   "name": "python"
  }
 },
 "nbformat": 4,
 "nbformat_minor": 2
}
